{
 "cells": [
  {
   "cell_type": "markdown",
   "metadata": {},
   "source": [
    "* Read the original paper from :: https://iopscience.iop.org/article/10.1088/1742-6596/1108/1/012066/pdf\n",
    "* The code only works for `Python=3.8` version"
   ]
  },
  {
   "cell_type": "markdown",
   "metadata": {},
   "source": [
    "# 0. Modules and Dataset Import"
   ]
  },
  {
   "cell_type": "markdown",
   "metadata": {},
   "source": [
    "`N.B` If you get a notification on `unpickle_load` module not present --> solution, update Python to 3.8.15\n",
    "* The paper assumes that number of goals scored by a team followed a `univariate Poisson distribution`\n",
    "* For their model they used a `Poisson-regression model`\n",
    "* The covariates of this model took form : \n",
    "    * a) goal average per match\n",
    "    * b) home-team advantage\n",
    "    * c) team's offensive power\n",
    "    * d) opponent team's defensive power\n",
    "* Also, assume that the goals scored by two teams are two `independent events`\n",
    "* Some folks have also used the `Skellam’s distribution` to model the difference of goals between home and away teams (Skellam in general is ideal for difference in discrete points)\n",
    "* To evaluate, the `Definetti` measure is used to assess performance\n",
    "* S"
   ]
  },
  {
   "cell_type": "code",
   "execution_count": 3,
   "metadata": {},
   "outputs": [],
   "source": [
    "# !pip install pandas\n",
    "# !pip install scipy"
   ]
  },
  {
   "cell_type": "markdown",
   "metadata": {},
   "source": [
    "* `dict_table` was scrapped by the author from different websites and then loaded to pickle\n",
    "* check webscraping of football from here :: https://www.youtube.com/watch?v=XDIscigGpGI\n",
    "* also author has stored `clean` versions of the data --> this has all the pre-processing stages required, you can review these steps on :: https://towardsdatascience.com/a-straightforward-guide-to-cleaning-and-preparing-data-in-python-8c82f209ae33\n",
    "* `df_historical_data` has the data from the past ranging from years *1930* to *2018*\n",
    "* the `dict_table` will have initial zeroes in the columns since we have not run any predictions nor used any models\n",
    "* the column will fill as the ML models predict the winners in upcoming matches"
   ]
  },
  {
   "cell_type": "code",
   "execution_count": 4,
   "metadata": {},
   "outputs": [],
   "source": [
    "import pandas as pd\n",
    "import pickle as pkl\n",
    "from scipy.stats import poisson\n",
    "\n",
    "# ---------------------------------------------------------------------------------- #\n",
    "\n",
    "dict_table = pd.read_pickle(open('./dataset/dict_table', 'rb'))\n",
    "df_historical_data = pd.read_csv('./dataset/clean_fifa_worldcup_matches.csv')\n",
    "df_fixture = pd.read_csv('./dataset/clean_fifa_worldcup_fixture.csv')"
   ]
  },
  {
   "cell_type": "markdown",
   "metadata": {},
   "source": [
    "# 1. Team Strength Quantification"
   ]
  },
  {
   "cell_type": "markdown",
   "metadata": {},
   "source": [
    "**STEP 1:**\n",
    "\n",
    "* Split the histroical data into two data_frames: `df_home` and `df_away`\n",
    "* `df_home` will store columns: `HomeTeam` , `HomeGoals` , `AwayGoals`\n",
    "* `df_away` will store columns : `AwayTeam` , `HomeGoals` , `AwayGoals`"
   ]
  },
  {
   "cell_type": "code",
   "execution_count": 5,
   "metadata": {},
   "outputs": [],
   "source": [
    "df_home = df_historical_data[['HomeTeam', 'HomeGoals', 'AwayGoals']]\n",
    "df_away = df_historical_data[['AwayTeam', 'HomeGoals', 'AwayGoals']]"
   ]
  },
  {
   "cell_type": "markdown",
   "metadata": {},
   "source": [
    "**STEP 2:**\n",
    "\n",
    "* Rename the columns, pure cosmetic change, nothing functional dependant"
   ]
  },
  {
   "cell_type": "code",
   "execution_count": 6,
   "metadata": {},
   "outputs": [],
   "source": [
    "df_home = df_home.rename(columns={\n",
    "    'HomeTeam': 'Team', 'HomeGoals': 'Goals Scored', 'AwayGoals': 'Goals Conceded'})\n",
    "df_away = df_away.rename(columns={\n",
    "    'AwayTeam': 'Team', 'HomeGoals': 'Goals Conceded', 'AwayGoals': 'Goals Scored'})"
   ]
  },
  {
   "cell_type": "markdown",
   "metadata": {},
   "source": [
    "**STEP 3:**\n",
    "\n",
    "* Concatenate `df_home` and `df_away` and calculate mean for goals scored and conceded\n",
    "* This gives us an idea of how good or how bad is the team, an average idea of `Team Strength`\n",
    "* This is going to be the base of all the predictions"
   ]
  },
  {
   "cell_type": "code",
   "execution_count": 7,
   "metadata": {},
   "outputs": [],
   "source": [
    "df_team_strength = pd.concat(\n",
    "    [df_home, df_away], ignore_index=True).groupby('Team').mean()"
   ]
  },
  {
   "cell_type": "markdown",
   "metadata": {},
   "source": [
    "# 2. Predictive Function with Poisson"
   ]
  },
  {
   "cell_type": "markdown",
   "metadata": {},
   "source": [
    "## 2.1. Description"
   ]
  },
  {
   "cell_type": "markdown",
   "metadata": {},
   "source": [
    "* The idea here is to predict how many points one team is going to get\n",
    "* In total we have 8 groups: group A, B, C --> H\n",
    "* In each group we have many matches ...\n",
    "* ... After one team wins a match --> it gets `3` points\n",
    "* If match is draw or a tie, each team gets `1` point\n",
    "* And if team loses it gets `0` point\n",
    "\n",
    "---"
   ]
  },
  {
   "cell_type": "markdown",
   "metadata": {},
   "source": [
    "* When picking a distribution to model an event, you have to see how the dynamics of the event must `match` the underlying `statistical` `assumptions` for a distribution\n",
    "* Assumptions made in a Poisson distribution setting:\n",
    "\n",
    "    * The number of events that can be `counted`\n",
    "        > For football eg. the event is the number of goals that ofcourse can be counted, we cannot have 1.5 or 3.7 goals, the counting will be in discrete form\n",
    "\n",
    "    * The `occurence` of events are `independent`\n",
    "        > For football eg. the probability of one goal will not affect the probability of another goal\n",
    "\n",
    "        > Obviously we can consider more complex way of modelling the variables such as `motivation` of team relating to high chance of scoring a goal, but in the simple case we assume independence, that factor may not always be `highly correlated`\n",
    "\n",
    "    * The `rate` at which the event occurs is `consistent`\n",
    "\n",
    "        > I dont agree with this point in football eg. but the author says that the probability of a goal in one match will be the same for another match ??? Not sure if this is true --> [needs more research]\n",
    "\n",
    "    * Two `seperate` events cannot occur at `exactly` the `same time`\n",
    "\n",
    "        > Obviously one goal made by one team cannot happen at the same time as the opposite team scores their goal. The two events cannot be `simultaneous in time`. So this assumption fits more closely than te rest\n",
    "\n",
    "---"
   ]
  },
  {
   "cell_type": "markdown",
   "metadata": {},
   "source": [
    "The Poisson distribution, mathematically, takes the form\n",
    "\n",
    "\\begin{equation}\n",
    "    P(\\text{X} = x) = \\frac{\\lambda^x e^{- \\lambda}}{x!}\n",
    "\\end{equation}\n",
    "\n",
    "* The main factor is $\\lambda$ which represents the number of events in a time interval\n",
    "* For the football eg. $\\lambda$ will represent the `median` of goals within the `90min` time interval\n",
    "* This is for both Team A and Team B, we will have two lambdas : $\\lambda_A$ and $\\lambda_B$ \n",
    "* The $x$ represents the `number of goals` in a `match` ... these could be scored by A (home) $x_A$ or B (away) $x_B$\n",
    "\n",
    "---"
   ]
  },
  {
   "cell_type": "markdown",
   "metadata": {},
   "source": [
    "## 2.2. Main Code"
   ]
  },
  {
   "cell_type": "code",
   "execution_count": 11,
   "metadata": {},
   "outputs": [],
   "source": [
    "def predictiveFunc(home, away):\n",
    "    \"\"\"\n",
    "    @desc: if the home and away team are within the df_team_strength indices, then for that team\n",
    "    \"\"\"\n",
    "    if home in df_team_strength.index and away in df_team_strength.index:\n",
    "\n",
    "        # assign lambda_a and lambda_b\n",
    "        lambda_home = df_team_strength.at[home, 'Goals Scored'] * \\\n",
    "            df_team_strength.at[away, 'Goals Conceded']\n",
    "        lambda_away = df_team_strength.at[away, 'Goals Scored'] * \\\n",
    "            df_team_strength.at[home, 'Goals Conceded']\n",
    "\n",
    "        # initialise some probability variables\n",
    "        prob_home, prob_away, prob_draw = 0, 0, 0\n",
    "\n",
    "        # loop through number of goals to be made by the home team\n",
    "        for x in range(0, 11):\n",
    "            # loop through number of goals to be made by the away team\n",
    "            for y in range(0, 11):\n",
    "                # sample from the poisson pmf\n",
    "                p = poisson.pmf(x, lambda_home) * poisson.pmf(y, lambda_away)\n",
    "\n",
    "                # if the scores equal then draw prob is added with the sample\n",
    "                if x == y:\n",
    "                    prob_draw += p\n",
    "\n",
    "                # if the home scores more than away team, increase prob_home by p\n",
    "                elif x > y:\n",
    "                    prob_home += p\n",
    "\n",
    "                # if the home scores less than away team, increase prob_away by p\n",
    "                elif x < y:\n",
    "                    prob_away += p\n",
    "\n",
    "        # set points for the home\n",
    "        points_home = 3 * prob_home + prob_draw\n",
    "        points_away = 3 * prob_away + prob_draw\n",
    "\n",
    "        return points_home, points_away\n",
    "\n",
    "    else:\n",
    "        return (0, 0)\n"
   ]
  },
  {
   "cell_type": "code",
   "execution_count": null,
   "metadata": {},
   "outputs": [],
   "source": []
  },
  {
   "cell_type": "code",
   "execution_count": null,
   "metadata": {},
   "outputs": [],
   "source": []
  },
  {
   "cell_type": "code",
   "execution_count": null,
   "metadata": {},
   "outputs": [],
   "source": []
  },
  {
   "cell_type": "code",
   "execution_count": null,
   "metadata": {},
   "outputs": [],
   "source": []
  },
  {
   "cell_type": "code",
   "execution_count": 12,
   "metadata": {},
   "outputs": [
    {
     "data": {
      "text/html": [
       "<div>\n",
       "<style scoped>\n",
       "    .dataframe tbody tr th:only-of-type {\n",
       "        vertical-align: middle;\n",
       "    }\n",
       "\n",
       "    .dataframe tbody tr th {\n",
       "        vertical-align: top;\n",
       "    }\n",
       "\n",
       "    .dataframe thead th {\n",
       "        text-align: right;\n",
       "    }\n",
       "</style>\n",
       "<table border=\"1\" class=\"dataframe\">\n",
       "  <thead>\n",
       "    <tr style=\"text-align: right;\">\n",
       "      <th></th>\n",
       "      <th>Team</th>\n",
       "      <th>Goals Scored</th>\n",
       "      <th>Goals Conceded</th>\n",
       "    </tr>\n",
       "  </thead>\n",
       "  <tbody>\n",
       "    <tr>\n",
       "      <th>0</th>\n",
       "      <td>France</td>\n",
       "      <td>4</td>\n",
       "      <td>1</td>\n",
       "    </tr>\n",
       "    <tr>\n",
       "      <th>1</th>\n",
       "      <td>Uruguay</td>\n",
       "      <td>4</td>\n",
       "      <td>2</td>\n",
       "    </tr>\n",
       "    <tr>\n",
       "      <th>2</th>\n",
       "      <td>Uruguay</td>\n",
       "      <td>6</td>\n",
       "      <td>1</td>\n",
       "    </tr>\n",
       "    <tr>\n",
       "      <th>3</th>\n",
       "      <td>Argentina</td>\n",
       "      <td>6</td>\n",
       "      <td>1</td>\n",
       "    </tr>\n",
       "    <tr>\n",
       "      <th>4</th>\n",
       "      <td>Paraguay</td>\n",
       "      <td>1</td>\n",
       "      <td>0</td>\n",
       "    </tr>\n",
       "  </tbody>\n",
       "</table>\n",
       "</div>"
      ],
      "text/plain": [
       "        Team  Goals Scored  Goals Conceded\n",
       "0     France             4               1\n",
       "1    Uruguay             4               2\n",
       "2    Uruguay             6               1\n",
       "3  Argentina             6               1\n",
       "4   Paraguay             1               0"
      ]
     },
     "execution_count": 12,
     "metadata": {},
     "output_type": "execute_result"
    }
   ],
   "source": [
    "df_home.head()"
   ]
  },
  {
   "cell_type": "code",
   "execution_count": 9,
   "metadata": {},
   "outputs": [
    {
     "data": {
      "text/html": [
       "<div>\n",
       "<style scoped>\n",
       "    .dataframe tbody tr th:only-of-type {\n",
       "        vertical-align: middle;\n",
       "    }\n",
       "\n",
       "    .dataframe tbody tr th {\n",
       "        vertical-align: top;\n",
       "    }\n",
       "\n",
       "    .dataframe thead th {\n",
       "        text-align: right;\n",
       "    }\n",
       "</style>\n",
       "<table border=\"1\" class=\"dataframe\">\n",
       "  <thead>\n",
       "    <tr style=\"text-align: right;\">\n",
       "      <th></th>\n",
       "      <th>Goals Scored</th>\n",
       "      <th>Goals Conceded</th>\n",
       "    </tr>\n",
       "    <tr>\n",
       "      <th>Team</th>\n",
       "      <th></th>\n",
       "      <th></th>\n",
       "    </tr>\n",
       "  </thead>\n",
       "  <tbody>\n",
       "    <tr>\n",
       "      <th>Algeria</th>\n",
       "      <td>1.000000</td>\n",
       "      <td>1.461538</td>\n",
       "    </tr>\n",
       "    <tr>\n",
       "      <th>Angola</th>\n",
       "      <td>0.333333</td>\n",
       "      <td>0.666667</td>\n",
       "    </tr>\n",
       "    <tr>\n",
       "      <th>Argentina</th>\n",
       "      <td>1.691358</td>\n",
       "      <td>1.148148</td>\n",
       "    </tr>\n",
       "    <tr>\n",
       "      <th>Australia</th>\n",
       "      <td>0.812500</td>\n",
       "      <td>1.937500</td>\n",
       "    </tr>\n",
       "    <tr>\n",
       "      <th>Austria</th>\n",
       "      <td>1.482759</td>\n",
       "      <td>1.620690</td>\n",
       "    </tr>\n",
       "    <tr>\n",
       "      <th>...</th>\n",
       "      <td>...</td>\n",
       "      <td>...</td>\n",
       "    </tr>\n",
       "    <tr>\n",
       "      <th>Uruguay</th>\n",
       "      <td>1.553571</td>\n",
       "      <td>1.321429</td>\n",
       "    </tr>\n",
       "    <tr>\n",
       "      <th>Wales</th>\n",
       "      <td>0.800000</td>\n",
       "      <td>0.800000</td>\n",
       "    </tr>\n",
       "    <tr>\n",
       "      <th>West Germany</th>\n",
       "      <td>2.112903</td>\n",
       "      <td>1.241935</td>\n",
       "    </tr>\n",
       "    <tr>\n",
       "      <th>Yugoslavia</th>\n",
       "      <td>1.666667</td>\n",
       "      <td>1.272727</td>\n",
       "    </tr>\n",
       "    <tr>\n",
       "      <th>Zaire</th>\n",
       "      <td>0.000000</td>\n",
       "      <td>4.666667</td>\n",
       "    </tr>\n",
       "  </tbody>\n",
       "</table>\n",
       "<p>85 rows × 2 columns</p>\n",
       "</div>"
      ],
      "text/plain": [
       "              Goals Scored  Goals Conceded\n",
       "Team                                      \n",
       "Algeria           1.000000        1.461538\n",
       "Angola            0.333333        0.666667\n",
       "Argentina         1.691358        1.148148\n",
       "Australia         0.812500        1.937500\n",
       "Austria           1.482759        1.620690\n",
       "...                    ...             ...\n",
       "Uruguay           1.553571        1.321429\n",
       "Wales             0.800000        0.800000\n",
       "West Germany      2.112903        1.241935\n",
       "Yugoslavia        1.666667        1.272727\n",
       "Zaire             0.000000        4.666667\n",
       "\n",
       "[85 rows x 2 columns]"
      ]
     },
     "execution_count": 9,
     "metadata": {},
     "output_type": "execute_result"
    }
   ],
   "source": [
    "df_team_strength"
   ]
  },
  {
   "cell_type": "code",
   "execution_count": null,
   "metadata": {},
   "outputs": [],
   "source": []
  },
  {
   "cell_type": "code",
   "execution_count": null,
   "metadata": {},
   "outputs": [],
   "source": []
  },
  {
   "cell_type": "code",
   "execution_count": null,
   "metadata": {},
   "outputs": [],
   "source": []
  }
 ],
 "metadata": {
  "kernelspec": {
   "display_name": "Python 3.8.15 ('qatar22')",
   "language": "python",
   "name": "python3"
  },
  "language_info": {
   "codemirror_mode": {
    "name": "ipython",
    "version": 3
   },
   "file_extension": ".py",
   "mimetype": "text/x-python",
   "name": "python",
   "nbconvert_exporter": "python",
   "pygments_lexer": "ipython3",
   "version": "3.8.15"
  },
  "orig_nbformat": 4,
  "vscode": {
   "interpreter": {
    "hash": "6559c90cde25a23ba7c0922495f3625853a3f5a122e6f77d8b89b4864ab129f4"
   }
  }
 },
 "nbformat": 4,
 "nbformat_minor": 2
}
