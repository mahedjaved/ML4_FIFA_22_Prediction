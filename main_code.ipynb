{
 "cells": [
  {
   "cell_type": "markdown",
   "metadata": {},
   "source": [
    "* Qatar world cup is going to last from 20 November to 18 December 2022\n",
    "* Read the original paper from :: https://iopscience.iop.org/article/10.1088/1742-6596/1108/1/012066/pdf\n",
    "* The codebase is borrowed from Frank Andrade's implementation : https://towardsdatascience.com/predicting-the-fifa-world-cup-2022-with-a-simple-model-using-python-6b34bdd4f2a5\n",
    "* [I am still in the process of finding an improvement in his code lolz :D]\n",
    "* The code only works for `Python=3.8` version btw :P"
   ]
  },
  {
   "cell_type": "markdown",
   "metadata": {},
   "source": [
    "# 0. Modules and Dataset Import"
   ]
  },
  {
   "cell_type": "markdown",
   "metadata": {},
   "source": [
    "`N.B` If you get a notification on `unpickle_load` module not present --> solution, update Python to 3.8.15\n",
    "* The paper assumes that number of goals scored by a team followed a `univariate Poisson distribution`\n",
    "* For their model they used a `Poisson-regression model`\n",
    "* The covariates of this model took form : \n",
    "    * a) goal average per match\n",
    "    * b) home-team advantage\n",
    "    * c) team's offensive power\n",
    "    * d) opponent team's defensive power\n",
    "* Also, assume that the goals scored by two teams are two `independent events`\n",
    "* Some folks have also used the `Skellam’s distribution` to model the difference of goals between home and away teams (Skellam in general is ideal for difference in discrete points)\n",
    "* To evaluate, the `Definetti` measure is used to assess performance"
   ]
  },
  {
   "cell_type": "code",
   "execution_count": 1,
   "metadata": {},
   "outputs": [],
   "source": [
    "# !pip install pandas\n",
    "# !pip install scipy"
   ]
  },
  {
   "cell_type": "markdown",
   "metadata": {},
   "source": [
    "* `dict_table` was scrapped by the author from different websites and then loaded to pickle\n",
    "* check webscraping of football from here :: https://www.youtube.com/watch?v=XDIscigGpGI\n",
    "* also author has stored `clean` versions of the data --> this has all the pre-processing stages required, you can review these steps on :: https://towardsdatascience.com/a-straightforward-guide-to-cleaning-and-preparing-data-in-python-8c82f209ae33\n",
    "* `df_historical_data` has the data from the past ranging from years *1930* to *2018*\n",
    "* the `dict_table` will have initial zeroes in the columns since we have not run any simulations of football events and neither done any predictions nor used any models yet\n",
    "* the column will fill as the ML models predict the winners in upcoming matches in Qatar 2022"
   ]
  },
  {
   "cell_type": "code",
   "execution_count": 2,
   "metadata": {},
   "outputs": [],
   "source": [
    "import pandas as pd\n",
    "import pickle as pkl\n",
    "from scipy.stats import poisson\n",
    "\n",
    "# ---------------------------------------------------------------------------------- #\n",
    "\n",
    "dict_table = pd.read_pickle(open('./dataset/dict_table', 'rb'))\n",
    "df_historical_data = pd.read_csv('./dataset/clean_fifa_worldcup_matches.csv')\n",
    "df_fixture = pd.read_csv('./dataset/clean_fifa_worldcup_fixture.csv')"
   ]
  },
  {
   "cell_type": "markdown",
   "metadata": {},
   "source": [
    "# 1. Team Strength Quantification"
   ]
  },
  {
   "cell_type": "markdown",
   "metadata": {},
   "source": [
    "**STEP 1:**\n",
    "\n",
    "* Split the histroical data into two data_frames: `df_home` and `df_away`\n",
    "* `df_home` will store columns: `HomeTeam` , `HomeGoals` , `AwayGoals`\n",
    "* `df_away` will store columns : `AwayTeam` , `HomeGoals` , `AwayGoals`"
   ]
  },
  {
   "cell_type": "code",
   "execution_count": 3,
   "metadata": {},
   "outputs": [],
   "source": [
    "df_home = df_historical_data[['HomeTeam', 'HomeGoals', 'AwayGoals']]\n",
    "df_away = df_historical_data[['AwayTeam', 'HomeGoals', 'AwayGoals']]"
   ]
  },
  {
   "cell_type": "markdown",
   "metadata": {},
   "source": [
    "**STEP 2:**\n",
    "\n",
    "* Rename the columns, pure cosmetic change, nothing functional dependant"
   ]
  },
  {
   "cell_type": "code",
   "execution_count": 4,
   "metadata": {},
   "outputs": [],
   "source": [
    "df_home = df_home.rename(columns={\n",
    "    'HomeTeam': 'Team', 'HomeGoals': 'Goals Scored', 'AwayGoals': 'Goals Conceded'})\n",
    "df_away = df_away.rename(columns={\n",
    "    'AwayTeam': 'Team', 'HomeGoals': 'Goals Conceded', 'AwayGoals': 'Goals Scored'})"
   ]
  },
  {
   "cell_type": "markdown",
   "metadata": {},
   "source": [
    "**STEP 3:**\n",
    "\n",
    "* Concatenate `df_home` and `df_away` and calculate mean for goals scored and conceded\n",
    "* This gives us an idea of how good or how bad is the team, an average idea of `Team Strength`\n",
    "* This is going to be the base of all the predictions"
   ]
  },
  {
   "cell_type": "code",
   "execution_count": 5,
   "metadata": {},
   "outputs": [],
   "source": [
    "df_team_strength = pd.concat(\n",
    "    [df_home, df_away], ignore_index=True).groupby('Team').mean()"
   ]
  },
  {
   "cell_type": "markdown",
   "metadata": {},
   "source": [
    "# 2. Setup Predictive Function with Poisson"
   ]
  },
  {
   "cell_type": "markdown",
   "metadata": {},
   "source": [
    "## 2.1. Description"
   ]
  },
  {
   "cell_type": "markdown",
   "metadata": {},
   "source": [
    "* The idea here is to predict how many points one team is going to get\n",
    "* In total we have 8 groups: group A, B, C --> H\n",
    "* In each group we have many matches ...\n",
    "* ... After one team wins a match --> it gets `3` points\n",
    "* If match is draw or a tie, each team gets `1` point\n",
    "* And if team loses it gets `0` point\n",
    "\n",
    "---"
   ]
  },
  {
   "cell_type": "markdown",
   "metadata": {},
   "source": [
    "* When picking a distribution to model an event, you have to see how the dynamics of the event must `match` the underlying `statistical` `assumptions` for a distribution\n",
    "* Assumptions made in a Poisson distribution setting:\n",
    "\n",
    "    * The number of events that can be `counted`\n",
    "        > For football eg. the event is the number of goals that ofcourse can be counted, we cannot have 1.5 or 3.7 goals, the counting will be in discrete form\n",
    "\n",
    "    * The `occurence` of events are `independent`\n",
    "        > For football eg. the probability of one goal will not affect the probability of another goal\n",
    "\n",
    "        > Obviously we can consider more complex way of modelling the variables such as `motivation` of team relating to high chance of scoring a goal, but in the simple case we assume independence, that factor may not always be `highly correlated`\n",
    "\n",
    "    * The `rate` at which the event occurs is `consistent`\n",
    "\n",
    "        > I dont agree with this point in football eg. but the author says that the probability of a goal in one match will be the same for another match ??? Not sure if this is true --> [needs more research]\n",
    "\n",
    "    * Two `seperate` events cannot occur at `exactly` the `same time`\n",
    "\n",
    "        > Obviously one goal made by one team cannot happen at the same time as the opposite team scores their goal. The two events cannot be `simultaneous in time`. So this assumption fits more closely than te rest\n",
    "\n",
    "---"
   ]
  },
  {
   "cell_type": "markdown",
   "metadata": {},
   "source": [
    "The Poisson distribution, mathematically, takes the form\n",
    "\n",
    "\\begin{equation}\n",
    "    P(\\text{X} = x) = \\frac{\\lambda^x e^{- \\lambda}}{x!}\n",
    "\\end{equation}\n",
    "\n",
    "* The main factor is $\\lambda$ which represents the number of events in a time interval\n",
    "* For the football eg. $\\lambda$ will represent the `median` of goals within the `90min` time interval\n",
    "* This is for both Team A and Team B, we will have two lambdas : $\\lambda_A$ and $\\lambda_B$ \n",
    "* The $x$ represents the `number of goals` in a `match` ... these could be scored by A (home) $x_A$ or B (away) $x_B$\n",
    "\n",
    "---"
   ]
  },
  {
   "cell_type": "markdown",
   "metadata": {},
   "source": [
    "## 2.2. Main Predictive Function"
   ]
  },
  {
   "cell_type": "code",
   "execution_count": 6,
   "metadata": {},
   "outputs": [],
   "source": [
    "def predictiveFunc(home, away):\n",
    "    \"\"\"\n",
    "    @desc: if the home and away team are within the df_team_strength indices, then for that team\n",
    "    \"\"\"\n",
    "    if home in df_team_strength.index and away in df_team_strength.index:\n",
    "\n",
    "        # assign lambda_a and lambda_b\n",
    "        lambda_home = df_team_strength.at[home, 'Goals Scored'] * \\\n",
    "            df_team_strength.at[away, 'Goals Conceded']\n",
    "        lambda_away = df_team_strength.at[away, 'Goals Scored'] * \\\n",
    "            df_team_strength.at[home, 'Goals Conceded']\n",
    "\n",
    "        # initialise some probability variables\n",
    "        prob_home, prob_away, prob_draw = 0, 0, 0\n",
    "\n",
    "        # loop through number of goals to be made by the home team\n",
    "        for x in range(0, 11):\n",
    "            # loop through number of goals to be made by the away team\n",
    "            for y in range(0, 11):\n",
    "                # sample from the poisson pmf\n",
    "                p = poisson.pmf(x, lambda_home) * poisson.pmf(y, lambda_away)\n",
    "\n",
    "                # if the scores equal then draw prob is added with the sample\n",
    "                if x == y:\n",
    "                    prob_draw += p\n",
    "\n",
    "                # if the home scores more than away team, increase prob_home by p\n",
    "                elif x > y:\n",
    "                    prob_home += p\n",
    "\n",
    "                # if the home scores less than away team, increase prob_away by p\n",
    "                elif x < y:\n",
    "                    prob_away += p\n",
    "\n",
    "        # set points for the home, wining team will have 3 points, in that case prob_home will be 1 and prob_draw will be 0\n",
    "        points_home = 3 * prob_home + prob_draw\n",
    "        points_away = 3 * prob_away + prob_draw\n",
    "\n",
    "        return points_home, points_away\n",
    "\n",
    "    else:\n",
    "        # this is for the condition when a new team joins that has no historical data (participation in World Cup) that is needed to predict their performance\n",
    "        return (0, 0)\n"
   ]
  },
  {
   "cell_type": "markdown",
   "metadata": {},
   "source": [
    "# 3. World Cup Prediction"
   ]
  },
  {
   "cell_type": "markdown",
   "metadata": {},
   "source": [
    "## 3.1. Split the Fixtures Into Stages"
   ]
  },
  {
   "cell_type": "markdown",
   "metadata": {},
   "source": [
    "* The stages can be divided into\n",
    "    * Group 48\n",
    "    * Knockout\n",
    "    * Quarter\n",
    "    * Semi-Final\n",
    "    * Final"
   ]
  },
  {
   "cell_type": "code",
   "execution_count": 7,
   "metadata": {},
   "outputs": [],
   "source": [
    "df_fixture_group_48 = df_fixture[:48].copy()\n",
    "df_fixture_knockout = df_fixture[48:56].copy()\n",
    "df_fixture_quarter = df_fixture[56:60].copy()\n",
    "df_fixture_semi = df_fixture[60:62].copy()\n",
    "df_fixture_final = df_fixture[62:].copy()"
   ]
  },
  {
   "attachments": {},
   "cell_type": "markdown",
   "metadata": {},
   "source": [
    "## 3.2. Simulate Running of the Matches (Pre-Knockout)"
   ]
  },
  {
   "cell_type": "markdown",
   "metadata": {},
   "source": [
    "* Before running the simulation, it is necessary to understand the football dynamics, basically how are the matches decided\n",
    "* Each of the participating teams are divided into groups of four\n",
    "* Each group will have six matches, there are a total of 48 matches that will occur before the knockout phase hits\n",
    "* You can see the individual groups iterating through the `dict_table['Group X']['Team']`, group X as in any of the groups from A-H\n",
    "* The algorithm is simple, it follows :\n",
    "    * Divide the teams into their respective groups using the command `dict_table['Group X']['Team'].values`\n",
    "    * Store this as the variable `teams_in_group`\n",
    "    * Now each team in a group will have 6 matches, you have to find these matches from the `df_fixture_group` and then isolate ones that have matching team names\n",
    "    * Store this as `df_fixture_group_6`\n",
    "    * We have the matches, now loop through them and predict points based on the Poisson regression model \n",
    "    * Once the predictions made, match the respective team in the `dict_table` and update the `Pts` column which represents the number of points\n",
    "    * The last few steps are mainly post-processing"
   ]
  },
  {
   "cell_type": "code",
   "execution_count": 9,
   "metadata": {},
   "outputs": [],
   "source": [
    "for group in dict_table:\n",
    "    # isolate the matches based on the teams in the groups\n",
    "    teams_in_group = dict_table[group]['Team'].values\n",
    "    df_fixture_group_6 = df_fixture_group_48[df_fixture_group_48['home'].isin(teams_in_group)]\n",
    "\n",
    "    # loop through the matches and predict\n",
    "    for index, row in df_fixture_group_6.iterrows():\n",
    "        home, away = row['home'], row['away']\n",
    "        points_home, points_away = predictiveFunc(home, away)\n",
    "        dict_table[group].loc[dict_table[group]['Team'] == home, 'Pts'] += points_home\n",
    "        dict_table[group].loc[dict_table[group]['Team'] == away, 'Pts'] += points_away\n",
    "\n",
    "    # sort the table based on the points in descending fashion and then reset_index\n",
    "    dict_table[group] = dict_table[group].sort_values('Pts', ascending=False).reset_index() \n",
    "    # select only the 'Team' and 'Pts' columns\n",
    "    dict_table[group] = dict_table[group][['Team', 'Pts']]\n",
    "    # round the values\n",
    "    dict_table[group] = dict_table[group].round(0)"
   ]
  },
  {
   "cell_type": "code",
   "execution_count": 11,
   "metadata": {},
   "outputs": [
    {
     "data": {
      "text/html": [
       "<div>\n",
       "<style scoped>\n",
       "    .dataframe tbody tr th:only-of-type {\n",
       "        vertical-align: middle;\n",
       "    }\n",
       "\n",
       "    .dataframe tbody tr th {\n",
       "        vertical-align: top;\n",
       "    }\n",
       "\n",
       "    .dataframe thead th {\n",
       "        text-align: right;\n",
       "    }\n",
       "</style>\n",
       "<table border=\"1\" class=\"dataframe\">\n",
       "  <thead>\n",
       "    <tr style=\"text-align: right;\">\n",
       "      <th></th>\n",
       "      <th>Team</th>\n",
       "      <th>Pts</th>\n",
       "    </tr>\n",
       "  </thead>\n",
       "  <tbody>\n",
       "    <tr>\n",
       "      <th>0</th>\n",
       "      <td>Portugal</td>\n",
       "      <td>6.0</td>\n",
       "    </tr>\n",
       "    <tr>\n",
       "      <th>1</th>\n",
       "      <td>Uruguay</td>\n",
       "      <td>5.0</td>\n",
       "    </tr>\n",
       "    <tr>\n",
       "      <th>2</th>\n",
       "      <td>Ghana</td>\n",
       "      <td>4.0</td>\n",
       "    </tr>\n",
       "    <tr>\n",
       "      <th>3</th>\n",
       "      <td>South Korea</td>\n",
       "      <td>2.0</td>\n",
       "    </tr>\n",
       "  </tbody>\n",
       "</table>\n",
       "</div>"
      ],
      "text/plain": [
       "          Team  Pts\n",
       "0     Portugal  6.0\n",
       "1      Uruguay  5.0\n",
       "2        Ghana  4.0\n",
       "3  South Korea  2.0"
      ]
     },
     "execution_count": 11,
     "metadata": {},
     "output_type": "execute_result"
    }
   ],
   "source": [
    "# display the table\n",
    "dict_table['Group H']"
   ]
  },
  {
   "attachments": {},
   "cell_type": "markdown",
   "metadata": {},
   "source": [
    "## 3.3. Simulate Running of the Matches (Knockout)"
   ]
  },
  {
   "cell_type": "code",
   "execution_count": null,
   "metadata": {},
   "outputs": [],
   "source": []
  },
  {
   "cell_type": "code",
   "execution_count": null,
   "metadata": {},
   "outputs": [],
   "source": []
  },
  {
   "cell_type": "code",
   "execution_count": null,
   "metadata": {},
   "outputs": [],
   "source": []
  },
  {
   "cell_type": "code",
   "execution_count": null,
   "metadata": {},
   "outputs": [],
   "source": []
  },
  {
   "cell_type": "code",
   "execution_count": null,
   "metadata": {},
   "outputs": [],
   "source": []
  },
  {
   "cell_type": "code",
   "execution_count": null,
   "metadata": {},
   "outputs": [],
   "source": []
  },
  {
   "cell_type": "code",
   "execution_count": null,
   "metadata": {},
   "outputs": [],
   "source": []
  },
  {
   "cell_type": "code",
   "execution_count": null,
   "metadata": {},
   "outputs": [],
   "source": []
  },
  {
   "cell_type": "code",
   "execution_count": null,
   "metadata": {},
   "outputs": [],
   "source": []
  }
 ],
 "metadata": {
  "kernelspec": {
   "display_name": "Python 3.8.15 ('qatar22')",
   "language": "python",
   "name": "python3"
  },
  "language_info": {
   "codemirror_mode": {
    "name": "ipython",
    "version": 3
   },
   "file_extension": ".py",
   "mimetype": "text/x-python",
   "name": "python",
   "nbconvert_exporter": "python",
   "pygments_lexer": "ipython3",
   "version": "3.8.15"
  },
  "orig_nbformat": 4,
  "vscode": {
   "interpreter": {
    "hash": "7f8e41a665da3722d194c24b8ceaaea3307527e7203f47ed9367f0220b476ff7"
   }
  }
 },
 "nbformat": 4,
 "nbformat_minor": 2
}
